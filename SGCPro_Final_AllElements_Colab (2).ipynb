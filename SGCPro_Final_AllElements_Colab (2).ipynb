{
 "cells": [
  {
   "cell_type": "markdown",
   "id": "a03e3e96",
   "metadata": {},
   "source": [
    "# 🌌 SGCPro Spectral Analyzer\n",
    "Detect all major spectral lines from stars, galaxies, and nebulae using SDSS data.\n",
    "Developed by Alisina Lessani."
   ]
  },
  {
   "cell_type": "code",
   "execution_count": null,
   "id": "eba4b8fa",
   "metadata": {},
   "outputs": [],
   "source": [
    "!pip install astropy scipy matplotlib astroquery --quiet"
   ]
  },
  {
   "cell_type": "code",
   "execution_count": null,
   "id": "00c754bc",
   "metadata": {},
   "outputs": [],
   "source": [
    "import numpy as np\n",
    "from astropy.io import fits\n",
    "from astroquery.sdss import SDSS\n",
    "from scipy.signal import find_peaks\n",
    "import matplotlib.pyplot as plt\n"
   ]
  },
  {
   "cell_type": "code",
   "execution_count": null,
   "id": "05deadd6",
   "metadata": {},
   "outputs": [],
   "source": [
    "def download_fits(plate, mjd, fiberID):\n",
    "    sp = SDSS.get_spectra(plate=plate, mjd=mjd, fiberID=fiberID)\n",
    "    filename = f\"spec-{plate}-{mjd}-{str(fiberID).zfill(3)}.fits\"\n",
    "    sp[0].writeto(filename, overwrite=True)\n",
    "    return filename\n"
   ]
  },
  {
   "cell_type": "code",
   "execution_count": null,
   "id": "8eb1c2c2",
   "metadata": {},
   "outputs": [],
   "source": [
    "known_lines = {\n",
    "    \"Hα\": 6563, \"Hβ\": 4861, \"Hγ\": 4340, \"Hδ\": 4102,\n",
    "    \"He I\": 5876, \"He II\": 4686,\n",
    "    \"Ca II K\": 3933, \"Ca II H\": 3968, \"Ca I\": 4227,\n",
    "    \"Na I\": 5890, \"[O II]\": 3727, \"[O III]\": 4959, \"[O III]\": 5007,\n",
    "    \"O I\": 7774, \"[N II]\": 6548, \"[N II]\": 6583,\n",
    "    \"[S II]\": 6716, \"[S II]\": 6731,\n",
    "    \"Mg I\": 5175, \"Fe I\": 4383, \"Fe II\": 4924, \"Ti II\": 4501,\n",
    "    \"G-band (CH)\": 4300, \"CN Violet\": 3883, \"CN Red\": 4216,\n",
    "    \"TiO_1\": 5167, \"TiO_2\": 5448\n",
    "}\n"
   ]
  },
  {
   "cell_type": "code",
   "execution_count": null,
   "id": "e427bed2",
   "metadata": {},
   "outputs": [],
   "source": [
    "def analyze_spectrum(fits_path, mode=\"auto\"):\n",
    "    with fits.open(fits_path) as hdul:\n",
    "        flux = hdul[1].data['flux']\n",
    "        loglam = hdul[1].data['loglam']\n",
    "    wavelength = 10**loglam\n",
    "    flux = flux / np.median(flux)\n",
    "\n",
    "    if mode == \"star\":\n",
    "        flux_proc = 1 - flux\n",
    "        prom, dist = 0.01, 5\n",
    "    else:\n",
    "        flux_proc = flux\n",
    "        prom, dist = 0.015, 4\n",
    "\n",
    "    peaks, _ = find_peaks(flux_proc, prominence=prom, distance=dist)\n",
    "    peak_wavelengths = wavelength[peaks]\n",
    "\n",
    "    print(f\"🔬 Detected Lines in: {fits_path}\")\n",
    "    for name, wl in known_lines.items():\n",
    "        if any(abs(peak_wavelengths - wl) < 5):\n",
    "            print(f\"  ✔ {name} at ~{wl} Å\")\n",
    "\n",
    "    plt.figure(figsize=(10, 4))\n",
    "    plt.plot(wavelength, flux, label=\"Normalized Flux\")\n",
    "    plt.scatter(wavelength[peaks], flux[peaks], color='red', s=10, label=\"Detected Peaks\")\n",
    "    plt.xlabel(\"Wavelength (Å)\")\n",
    "    plt.ylabel(\"Normalized Flux\")\n",
    "    plt.title(\"Spectrum Analysis\")\n",
    "    plt.legend()\n",
    "    plt.tight_layout()\n",
    "    plt.show()\n"
   ]
  },
  {
   "cell_type": "code",
   "execution_count": null,
   "id": "c8f75468",
   "metadata": {},
   "outputs": [],
   "source": [
    "# Examples\n",
    "star = download_fits(1188, 52650, 7)\n",
    "analyze_spectrum(star, mode=\"star\")\n",
    "\n",
    "galaxy = download_fits(1188, 52650, 525)\n",
    "analyze_spectrum(galaxy)\n",
    "\n",
    "nebula = download_fits(1188, 52650, 496)\n",
    "analyze_spectrum(nebula)\n"
   ]
  }
 ],
 "metadata": {},
 "nbformat": 4,
 "nbformat_minor": 5
}

#can-i-help-you
